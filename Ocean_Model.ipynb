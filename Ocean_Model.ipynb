{
 "cells": [
  {
   "cell_type": "markdown",
   "metadata": {},
   "source": [
    "># Create models for Ocean Depths model\n",
    "\n",
    ">- October, 2021. S. Chakraborty (<shibaji7@vt.edu>)\n",
    "\n",
    ">> ### Simplified 1D Ocean depth model: conductivity changes with depth only"
   ]
  },
  {
   "cell_type": "code",
   "execution_count": 1,
   "metadata": {},
   "outputs": [],
   "source": [
    "# Import required parameters\n",
    "import netCDF4 as nc"
   ]
  },
  {
   "cell_type": "code",
   "execution_count": 3,
   "metadata": {},
   "outputs": [
    {
     "data": {
      "text/plain": [
       "dict_keys(['latitude', 'longitude', 'asthenospheric_mantle_top_depth', 'asthenospheric_mantle_top_density', 'asthenospheric_mantle_top_vp', 'asthenospheric_mantle_top_vs', 'asthenospheric_mantle_top_qkappa', 'asthenospheric_mantle_top_qmu', 'asthenospheric_mantle_top_vp2', 'asthenospheric_mantle_top_vs2', 'asthenospheric_mantle_top_eta', 'lid_bottom_depth', 'lid_bottom_density', 'lid_bottom_vp', 'lid_bottom_vs', 'lid_bottom_qkappa', 'lid_bottom_qmu', 'lid_bottom_vp2', 'lid_bottom_vs2', 'lid_bottom_eta', 'lid_top_depth', 'lid_top_density', 'lid_top_vp', 'lid_top_vs', 'lid_top_qkappa', 'lid_top_qmu', 'lid_top_vp2', 'lid_top_vs2', 'lid_top_eta', 'lower_crust_bottom_depth', 'lower_crust_bottom_density', 'lower_crust_bottom_vp', 'lower_crust_bottom_vs', 'lower_crust_bottom_qkappa', 'lower_crust_bottom_qmu', 'lower_crust_bottom_vp2', 'lower_crust_bottom_vs2', 'lower_crust_bottom_eta', 'lower_crust_top_depth', 'lower_crust_top_density', 'lower_crust_top_vp', 'lower_crust_top_vs', 'lower_crust_top_qkappa', 'lower_crust_top_qmu', 'lower_crust_top_vp2', 'lower_crust_top_vs2', 'lower_crust_top_eta', 'middle_crust_bottom_depth', 'middle_crust_bottom_density', 'middle_crust_bottom_vp', 'middle_crust_bottom_vs', 'middle_crust_bottom_qkappa', 'middle_crust_bottom_qmu', 'middle_crust_bottom_vp2', 'middle_crust_bottom_vs2', 'middle_crust_bottom_eta', 'middle_crust_top_depth', 'middle_crust_top_density', 'middle_crust_top_vp', 'middle_crust_top_vs', 'middle_crust_top_qkappa', 'middle_crust_top_qmu', 'middle_crust_top_vp2', 'middle_crust_top_vs2', 'middle_crust_top_eta', 'upper_crust_bottom_depth', 'upper_crust_bottom_density', 'upper_crust_bottom_vp', 'upper_crust_bottom_vs', 'upper_crust_bottom_qkappa', 'upper_crust_bottom_qmu', 'upper_crust_bottom_vp2', 'upper_crust_bottom_vs2', 'upper_crust_bottom_eta', 'upper_crust_top_depth', 'upper_crust_top_density', 'upper_crust_top_vp', 'upper_crust_top_vs', 'upper_crust_top_qkappa', 'upper_crust_top_qmu', 'upper_crust_top_vp2', 'upper_crust_top_vs2', 'upper_crust_top_eta', 'lower_sediments_bottom_depth', 'lower_sediments_bottom_density', 'lower_sediments_bottom_vp', 'lower_sediments_bottom_vs', 'lower_sediments_bottom_qkappa', 'lower_sediments_bottom_qmu', 'lower_sediments_bottom_vp2', 'lower_sediments_bottom_vs2', 'lower_sediments_bottom_eta', 'lower_sediments_top_depth', 'lower_sediments_top_density', 'lower_sediments_top_vp', 'lower_sediments_top_vs', 'lower_sediments_top_qkappa', 'lower_sediments_top_qmu', 'lower_sediments_top_vp2', 'lower_sediments_top_vs2', 'lower_sediments_top_eta', 'middle_sediments_bottom_depth', 'middle_sediments_bottom_density', 'middle_sediments_bottom_vp', 'middle_sediments_bottom_vs', 'middle_sediments_bottom_qkappa', 'middle_sediments_bottom_qmu', 'middle_sediments_bottom_vp2', 'middle_sediments_bottom_vs2', 'middle_sediments_bottom_eta', 'middle_sediments_top_depth', 'middle_sediments_top_density', 'middle_sediments_top_vp', 'middle_sediments_top_vs', 'middle_sediments_top_qkappa', 'middle_sediments_top_qmu', 'middle_sediments_top_vp2', 'middle_sediments_top_vs2', 'middle_sediments_top_eta', 'upper_sediments_bottom_depth', 'upper_sediments_bottom_density', 'upper_sediments_bottom_vp', 'upper_sediments_bottom_vs', 'upper_sediments_bottom_qkappa', 'upper_sediments_bottom_qmu', 'upper_sediments_bottom_vp2', 'upper_sediments_bottom_vs2', 'upper_sediments_bottom_eta', 'upper_sediments_top_depth', 'upper_sediments_top_density', 'upper_sediments_top_vp', 'upper_sediments_top_vs', 'upper_sediments_top_qkappa', 'upper_sediments_top_qmu', 'upper_sediments_top_vp2', 'upper_sediments_top_vs2', 'upper_sediments_top_eta', 'ice_bottom_depth', 'ice_bottom_density', 'ice_bottom_vp', 'ice_bottom_vs', 'ice_bottom_qkappa', 'ice_bottom_qmu', 'ice_bottom_vp2', 'ice_bottom_vs2', 'ice_bottom_eta', 'ice_top_depth', 'ice_top_density', 'ice_top_vp', 'ice_top_vs', 'ice_top_qkappa', 'ice_top_qmu', 'ice_top_vp2', 'ice_top_vs2', 'ice_top_eta', 'water_bottom_depth', 'water_bottom_density', 'water_bottom_vp', 'water_bottom_vs', 'water_bottom_qkappa', 'water_bottom_qmu', 'water_bottom_vp2', 'water_bottom_vs2', 'water_bottom_eta', 'water_top_depth', 'water_top_density', 'water_top_vp', 'water_top_vs', 'water_top_qkappa', 'water_top_qmu', 'water_top_vp2', 'water_top_vs2', 'water_top_eta'])"
      ]
     },
     "execution_count": 3,
     "metadata": {},
     "output_type": "execute_result"
    }
   ],
   "source": [
    "ds = nc.Dataset(\"data/LITHO1.0.nc\")\n",
    "lats, lngs = ds[\"latitude\"][:], ds[\"longitude\"][:]\n",
    "ds.variables.keys()"
   ]
  },
  {
   "cell_type": "code",
   "execution_count": 11,
   "metadata": {},
   "outputs": [
    {
     "data": {
      "text/plain": [
       "<class 'netCDF4._netCDF4.Variable'>\n",
       "float32 water_top_depth(latitude, longitude)\n",
       "    long_name: water top depth\n",
       "    units: km\n",
       "unlimited dimensions: \n",
       "current shape = (180, 360)\n",
       "filling on, default _FillValue of 9.969209968386869e+36 used"
      ]
     },
     "execution_count": 11,
     "metadata": {},
     "output_type": "execute_result"
    }
   ],
   "source": [
    "ds.variables[\"water_top_depth\"]"
   ]
  }
 ],
 "metadata": {
  "kernelspec": {
   "display_name": "cable",
   "language": "python",
   "name": "cable"
  },
  "language_info": {
   "codemirror_mode": {
    "name": "ipython",
    "version": 3
   },
   "file_extension": ".py",
   "mimetype": "text/x-python",
   "name": "python",
   "nbconvert_exporter": "python",
   "pygments_lexer": "ipython3",
   "version": "3.7.6"
  }
 },
 "nbformat": 4,
 "nbformat_minor": 4
}
