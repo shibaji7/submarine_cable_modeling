{
 "cells": [
  {
   "cell_type": "markdown",
   "metadata": {},
   "source": [
    "### Geomagnetic Induction in Submarine Cable during the March 1989 Geomagnetic Storm\n",
    "---\n",
    "* __author__ = [Chakraborty, S.; Boteler, D. B. H.]\n",
    "* __copyright__ = \n",
    "* __credits__ = []\n",
    "* __license__ = MIT\n",
    "* __version__ = 1.0\n",
    "* __maintainer__ = Chakraborty, S.\n",
    "* __email__ = shibaji7@vt.edu\n",
    "* __status__ = Research\n",
    "\n",
    ">  "
   ]
  }
 ],
 "metadata": {
  "kernelspec": {
   "display_name": "cable",
   "language": "python",
   "name": "cable"
  },
  "language_info": {
   "codemirror_mode": {
    "name": "ipython",
    "version": 3
   },
   "file_extension": ".py",
   "mimetype": "text/x-python",
   "name": "python",
   "nbconvert_exporter": "python",
   "pygments_lexer": "ipython3",
   "version": "3.7.6"
  }
 },
 "nbformat": 4,
 "nbformat_minor": 4
}
